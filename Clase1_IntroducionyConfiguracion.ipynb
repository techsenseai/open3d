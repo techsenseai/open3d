{
 "cells": [
  {
   "cell_type": "markdown",
   "metadata": {},
   "source": [
    "# Clase 1: Introducción y Configuración\n",
    "## Instalación de Open3D\n",
    "### 1 Requisitos Previos:\n",
    "Python (recomendado: 3.8 a 3.11).\n",
    "\n",
    "    Pip actualizado.\n",
    "    Entorno virtual para mantener las dependencias aisladas.\n",
    "    \n",
    "### 2 Instalación en Sistemas Operativos:\n",
    "Windows / macOS / Linux\n",
    "Ejecuta los siguientes comandos en tu terminal:"
   ]
  },
  {
   "cell_type": "code",
   "execution_count": null,
   "metadata": {},
   "outputs": [],
   "source": [
    "# Paso 1: Crear un entorno virtual\n",
    "python -m venv open3d_env\n",
    "source open3d_env/bin/activate  # En Windows usa: open3d_env\\Scripts\\activate\n",
    "\n",
    "\n"
   ]
  },
  {
   "cell_type": "code",
   "execution_count": null,
   "metadata": {},
   "outputs": [],
   "source": [
    "# Paso 2: Actualizar pip\n",
    "!pip install --upgrade pip\n",
    "\n",
    "# Paso 3: Instalar Open3D\n",
    "!pip install open3d"
   ]
  },
  {
   "cell_type": "markdown",
   "metadata": {},
   "source": [
    "### 3 Verificación de la instalación\n",
    "Prueba la instalación ejecutando el siguiente código en Python:"
   ]
  },
  {
   "cell_type": "code",
   "execution_count": 2,
   "metadata": {},
   "outputs": [
    {
     "name": "stdout",
     "output_type": "stream",
     "text": [
      "Jupyter environment detected. Enabling Open3D WebVisualizer.\n",
      "[Open3D INFO] WebRTC GUI backend enabled.\n",
      "[Open3D INFO] WebRTCWindowSystem: HTTP handshake server disabled.\n",
      "Versión de Open3D: 0.18.0\n"
     ]
    }
   ],
   "source": [
    "import open3d as o3d\n",
    "\n",
    "print(\"Versión de Open3D:\", o3d.__version__)"
   ]
  },
  {
   "cell_type": "markdown",
   "metadata": {},
   "source": [
    "Si ves un mensaje como Versión de Open3D: 0.18.0, la instalación fue exitosa.\n",
    "\n",
    "## 2. Tu primer programa con Open3D\n",
    "### 1 Cargar un modelo 3D básico\n",
    "Vamos a cargar un archivo de muestra y visualizarlo. Open3D incluye un archivo de ejemplo llamado knot.ply."
   ]
  },
  {
   "cell_type": "code",
   "execution_count": 3,
   "metadata": {},
   "outputs": [
    {
     "name": "stdout",
     "output_type": "stream",
     "text": [
      "[Open3D INFO] Downloading https://github.com/isl-org/open3d_downloads/releases/download/20220201-data/KnotMesh.ply\n",
      "[Open3D INFO] Downloaded to C:\\Users\\marce/open3d_data/download/KnotMesh/KnotMesh.ply\n"
     ]
    }
   ],
   "source": [
    "import open3d as o3d\n",
    "\n",
    "# Cargar un modelo 3D desde archivo\n",
    "mesh = o3d.data.KnotMesh()\n",
    "knot_mesh = o3d.io.read_triangle_mesh(mesh.path)\n",
    "\n",
    "# Configurar el visualizador\n",
    "o3d.visualization.draw_geometries(\n",
    "    [knot_mesh], \n",
    "    window_name=\"Primer Visualizador con Open3D\",\n",
    "    width=800,\n",
    "    height=600,\n",
    "    mesh_show_wireframe=True\n",
    ")\n"
   ]
  },
  {
   "cell_type": "markdown",
   "metadata": {},
   "source": [
    "Explicación del código:\n",
    "\n",
    "    1. o3d.data.KnotMesh(): Proporciona la ruta a un archivo de ejemplo de Open3D.\n",
    "    2. o3d.io.read_triangle_mesh(): Lee un modelo de malla 3D desde un archivo.\n",
    "    3. o3d.visualization.draw_geometries(): Lanza un visualizador interactivo.\n",
    "\n",
    "## 3. Solución de Problemas Comunes\n",
    "    1. Error: ModuleNotFoundError: No module named 'open3d'\n",
    "\n",
    "        Asegúrate de haber activado tu entorno virtual.\n",
    "        Verifica la instalación con pip show open3d.\n",
    "\n",
    "    2. Problemas al abrir la ventana de visualización:\n",
    "\n",
    "        Si estás en un servidor remoto o WSL, necesitarás usar un entorno con soporte gráfico, como VcXsrv."
   ]
  }
 ],
 "metadata": {
  "kernelspec": {
   "display_name": "quant",
   "language": "python",
   "name": "python3"
  },
  "language_info": {
   "codemirror_mode": {
    "name": "ipython",
    "version": 3
   },
   "file_extension": ".py",
   "mimetype": "text/x-python",
   "name": "python",
   "nbconvert_exporter": "python",
   "pygments_lexer": "ipython3",
   "version": "3.9.12"
  }
 },
 "nbformat": 4,
 "nbformat_minor": 2
}
