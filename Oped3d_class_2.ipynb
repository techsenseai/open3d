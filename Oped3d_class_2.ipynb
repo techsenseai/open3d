{
 "cells": [
  {
   "cell_type": "markdown",
   "metadata": {},
   "source": [
    "# Clase 2: Estructuras de Datos Principales en Open3D"
   ]
  },
  {
   "cell_type": "markdown",
   "metadata": {},
   "source": [
    "En esta clase aprenderemos:\n",
    "\n",
    "- Las estructuras de datos principales en Open3D: `PointCloud`, `TriangleMesh`, `Image`.\n",
    "- Cómo leer y escribir archivos 3D (PLY, OBJ, STL, etc.).\n",
    "- Aplicar transformaciones geométricas como traslaciones, rotaciones y escalado."
   ]
  },
  {
   "cell_type": "markdown",
   "metadata": {},
   "source": [
    "## Estructuras de Datos Principales"
   ]
  },
  {
   "cell_type": "code",
   "execution_count": 1,
   "metadata": {},
   "outputs": [],
   "source": [
    "# Importar Open3D y NumPy\n",
    "import open3d as o3d\n",
    "import numpy as np"
   ]
  },
  {
   "cell_type": "markdown",
   "metadata": {},
   "source": [
    "### 1.1 Nubes de Puntos (`o3d.geometry.PointCloud`)"
   ]
  },
  {
   "cell_type": "code",
   "execution_count": 3,
   "metadata": {},
   "outputs": [],
   "source": [
    "# Crear una nube de puntos\n",
    "points = np.array([[0, 0, 0], [1, 0, 0], [0, 1, 0]])\n",
    "pcd = o3d.geometry.PointCloud()\n",
    "pcd.points = o3d.utility.Vector3dVector(points)\n",
    "\n",
    "# Visualizar la nube de puntos\n",
    "o3d.visualization.draw_geometries([pcd])"
   ]
  },
  {
   "cell_type": "code",
   "execution_count": 4,
   "metadata": {},
   "outputs": [],
   "source": [
    "# Añadir colores a la nube de puntos\n",
    "colors = np.array([[1, 0, 0], [0, 1, 0], [0, 0, 1]])  # RGB\n",
    "pcd.colors = o3d.utility.Vector3dVector(colors)\n",
    "\n",
    "# Visualizar con colores\n",
    "o3d.visualization.draw_geometries([pcd])"
   ]
  },
  {
   "cell_type": "markdown",
   "metadata": {},
   "source": [
    "### 1.2 Mallas Triangulares (`o3d.geometry.TriangleMesh`)"
   ]
  },
  {
   "cell_type": "code",
   "execution_count": 5,
   "metadata": {},
   "outputs": [],
   "source": [
    "# Crear una malla de un cubo\n",
    "mesh = o3d.geometry.TriangleMesh.create_box(width=1.0, height=1.0, depth=1.0)\n",
    "\n",
    "# Pintar la malla de un color uniforme\n",
    "mesh.paint_uniform_color([0.5, 0.7, 1.0])  # Azul claro\n",
    "\n",
    "# Visualizar la malla\n",
    "o3d.visualization.draw_geometries([mesh])"
   ]
  },
  {
   "cell_type": "markdown",
   "metadata": {},
   "source": [
    "### 1.3 Imágenes (`o3d.geometry.Image`)"
   ]
  },
  {
   "cell_type": "code",
   "execution_count": 6,
   "metadata": {},
   "outputs": [],
   "source": [
    "# Leer una imagen\n",
    "image = o3d.io.read_image(\"file.png\")\n",
    "\n",
    "# Visualizar la imagen\n",
    "o3d.visualization.draw_geometries([image])"
   ]
  },
  {
   "cell_type": "markdown",
   "metadata": {},
   "source": [
    "## Lectura y Escritura de Datos 3D"
   ]
  },
  {
   "cell_type": "code",
   "execution_count": 14,
   "metadata": {},
   "outputs": [],
   "source": [
    "# Leer una nube de puntos desde un archivo\n",
    "pcd = o3d.io.read_point_cloud(\"./fantasy-dragon-ply/Fantasy Dragon.ply\")\n",
    "\n",
    "# Visualizar la nube de puntos\n",
    "o3d.visualization.draw_geometries([pcd])"
   ]
  },
  {
   "cell_type": "code",
   "execution_count": 8,
   "metadata": {},
   "outputs": [
    {
     "data": {
      "text/plain": [
       "True"
      ]
     },
     "execution_count": 8,
     "metadata": {},
     "output_type": "execute_result"
    }
   ],
   "source": [
    "# Guardar la nube de puntos en un archivo\n",
    "o3d.io.write_point_cloud(\"output.ply\", pcd)"
   ]
  },
  {
   "cell_type": "markdown",
   "metadata": {},
   "source": [
    "## Transformaciones Geométricas"
   ]
  },
  {
   "cell_type": "code",
   "execution_count": 15,
   "metadata": {},
   "outputs": [],
   "source": [
    "# Aplicar una traslación\n",
    "translation = np.array([1, 1, 0])  # Desplazamiento (x=1, y=1, z=0)\n",
    "pcd.translate(translation)\n",
    "\n",
    "# Visualizar\n",
    "o3d.visualization.draw_geometries([pcd])"
   ]
  },
  {
   "cell_type": "code",
   "execution_count": 16,
   "metadata": {},
   "outputs": [],
   "source": [
    "# Crear una matriz de rotación (90 grados alrededor del eje Z)\n",
    "R = pcd.get_rotation_matrix_from_xyz((0, 0, np.pi / 2))\n",
    "pcd.rotate(R, center=(0, 0, 0))  # Centro de rotación en el origen\n",
    "\n",
    "# Visualizar\n",
    "o3d.visualization.draw_geometries([pcd])"
   ]
  },
  {
   "cell_type": "code",
   "execution_count": 18,
   "metadata": {},
   "outputs": [],
   "source": [
    "# Escalar la nube de puntos\n",
    "scale_factor = 8.0  # Duplicar el tamaño\n",
    "pcd.scale(scale_factor, center=(0, 0, 0))  # Escalar respecto al origen\n",
    "\n",
    "# Visualizar\n",
    "o3d.visualization.draw_geometries([pcd])"
   ]
  },
  {
   "cell_type": "code",
   "execution_count": 19,
   "metadata": {},
   "outputs": [],
   "source": [
    "# Combinación de transformaciones: Traslación + Rotación\n",
    "T = np.eye(4)\n",
    "T[:3, :3] = pcd.get_rotation_matrix_from_xyz((0, 0, np.pi / 4))  # Rotación\n",
    "T[:3, 3] = [1, 1, 0]  # Traslación\n",
    "\n",
    "# Aplicar la transformación\n",
    "pcd.transform(T)\n",
    "\n",
    "# Visualizar\n",
    "o3d.visualization.draw_geometries([pcd])"
   ]
  },
  {
   "cell_type": "code",
   "execution_count": null,
   "metadata": {},
   "outputs": [],
   "source": []
  }
 ],
 "metadata": {
  "kernelspec": {
   "display_name": "Python 3 (ipykernel)",
   "language": "python",
   "name": "python3"
  },
  "language_info": {
   "codemirror_mode": {
    "name": "ipython",
    "version": 3
   },
   "file_extension": ".py",
   "mimetype": "text/x-python",
   "name": "python",
   "nbconvert_exporter": "python",
   "pygments_lexer": "ipython3",
   "version": "3.12.7"
  }
 },
 "nbformat": 4,
 "nbformat_minor": 4
}
